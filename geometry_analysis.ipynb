{
 "cells": [
  {
   "cell_type": "code",
   "execution_count": 245,
   "metadata": {},
   "outputs": [],
   "source": [
    "import itertools\n",
    "import numpy as np\n",
    "import pandas as pd\n",
    "from scipy import constants\n",
    "from functools import partial"
   ]
  },
  {
   "cell_type": "code",
   "execution_count": 246,
   "metadata": {},
   "outputs": [
    {
     "name": "stdout",
     "output_type": "stream",
     "text": [
      "benzene\n",
      " C   \t -0.269   \t -0.462   \t -1.43   \n",
      " C   \t 0.0131   \t 0.0539   \t -0.166  \n",
      " C   \t -0.24    \t -0.712   \t 0.971   \n",
      " C   \t -0.775   \t -1.99    \t 0.844   \n",
      " C   \t -1.06    \t -2.51    \t -0.421  \n",
      " C   \t -0.803   \t -1.74    \t -1.56   \n",
      " H   \t -1.02    \t -2.15    \t -2.54   \n",
      " H   \t -0.0714  \t 0.135    \t -2.32   \n",
      " H   \t 0.43     \t 1.05     \t -0.0669 \n",
      " H   \t -0.0206  \t -0.311   \t 1.96    \n",
      " H   \t -0.972   \t -2.59    \t 1.73    \n",
      " H   \t -1.47    \t -3.51    \t -0.52   \n"
     ]
    }
   ],
   "source": [
    "file_name = \"benzene.xyz\"\n",
    "with open(file_name) as file:\n",
    "    file_data = []\n",
    "    for line in file:\n",
    "        line = line.strip()\n",
    "        file_data.append(line)\n",
    "\n",
    "    atom_count = int(file_data[0])\n",
    "    print(file_data[1])\n",
    "    file_data = file_data[2:]\n",
    "\n",
    "    data = map(lambda x: x.split(), file_data)\n",
    "    data = map(lambda x: (x[0], np.array([float(x[1]), float(x[2]), float(x[3])])), data)\n",
    "    data = list(data)\n",
    "\n",
    "    for atom, (x, y, z) in data:\n",
    "        print(f\" {atom:<3} \\t {x:<8.3} \\t {y:<8.3} \\t {z:<8.3}\")\n",
    "\n",
    "data : list[tuple[str, float, float, float]]"
   ]
  },
  {
   "cell_type": "code",
   "execution_count": 247,
   "metadata": {},
   "outputs": [],
   "source": [
    "def mag(v: np.ndarray):\n",
    "    return np.sqrt(v @ v)\n",
    "\n",
    "cov_rads = {  'H' : 0.37, 'C' : 0.77, 'O' : 0.73, 'N' : 0.75, 'F' : 0.71,\n",
    "  'P' : 1.10, 'S' : 1.03, 'Cl': 0.99, 'Br': 1.14, 'I' : 1.33, 'He': 0.30,\n",
    "  'Ne': 0.84, 'Ar': 1.00, 'Li': 1.02, 'Be': 0.27, 'B' : 0.88, 'Na': 1.02,\n",
    "  'Mg': 0.72, 'Al': 1.30, 'Si': 1.18, 'K' : 1.38, 'Ca': 1.00, 'Sc': 0.75,\n",
    "  'Ti': 0.86, 'V' : 0.79, 'Cr': 0.73, 'Mn': 0.67, 'Fe': 0.61, 'Co': 0.64,\n",
    "  'Ni': 0.55, 'Cu': 0.46, 'Zn': 0.60, 'Ga': 1.22, 'Ge': 1.22, 'As': 1.22,\n",
    "  'Se': 1.17, 'Kr': 1.03, 'X' : 0.00}\n",
    "\n",
    "def is_bonded(ai, v : np.ndarray, aj, u : np.ndarray = np.array([0,0,0]), k=1.20):\n",
    "    return mag(v-u) <= k * ( cov_rads.get(ai) + cov_rads.get(aj))\n",
    "\n",
    "def bond_angle(v : np.ndarray, u : np.ndarray, w : np.ndarray):\n",
    "    a = v-u \n",
    "    b = w-u\n",
    "    \n",
    "    cos = a @ b / mag(a) / mag(b)\n",
    "    return np.arccos(cos)"
   ]
  },
  {
   "cell_type": "code",
   "execution_count": 248,
   "metadata": {},
   "outputs": [
    {
     "name": "stdout",
     "output_type": "stream",
     "text": [
      "Bond Graph\n",
      " 1\t C \t [2, 6, 8]\n",
      " 2\t C \t [1, 3, 9]\n",
      " 3\t C \t [2, 4, 10]\n",
      " 4\t C \t [3, 5, 11]\n",
      " 5\t C \t [4, 6, 12]\n",
      " 6\t C \t [1, 5, 7]\n",
      " 7\t H \t [6]\n",
      " 8\t H \t [1]\n",
      " 9\t H \t [2]\n",
      " 10\t H \t [3]\n",
      " 11\t H \t [4]\n",
      " 12\t H \t [5]\n",
      "\n",
      "12 bond(s) found (Angstrom)\n",
      " 1-2 \t (C-C) \t 1.3948\n",
      " 1-6 \t (C-C) \t 1.3948\n",
      " 1-8 \t (C-H) \t 1.0867\n",
      " 2-3 \t (C-C) \t 1.3948\n",
      " 2-9 \t (C-H) \t 1.0867\n",
      " 3-4 \t (C-C) \t 1.3948\n",
      " 3-10 \t (C-H) \t 1.0867\n",
      " 4-5 \t (C-C) \t 1.3948\n",
      " 4-11 \t (C-H) \t 1.0867\n",
      " 5-6 \t (C-C) \t 1.3948\n",
      " 5-12 \t (C-H) \t 1.0867\n",
      " 6-7 \t (C-H) \t 1.0867\n"
     ]
    }
   ],
   "source": [
    "bond_graph = [[] for _ in range(atom_count)]\n",
    "bonds = []\n",
    "\n",
    "\n",
    "for (i, (ai, vi)), (j, (aj, vj)) in itertools.combinations(enumerate(data), 2):\n",
    "    if i == j:\n",
    "        continue\n",
    "\n",
    "    if is_bonded(ai,vi,aj,vj):\n",
    "        bond_graph[i].append(j)\n",
    "        bond_graph[j].append(i)\n",
    "        bonds.append((i,j, mag(vi-vj)))\n",
    "\n",
    "print(\"Bond Graph\")\n",
    "for i, bonded_atoms in enumerate(bond_graph):\n",
    "    print(f\" {i+1}\\t {data[i][0]} \\t {list(map(lambda x: x+1, bonded_atoms))}\")\n",
    "print()\n",
    "\n",
    "print(f\"{len(bonds)} bond(s) found (Angstrom)\")\n",
    "for i,j,d in bonds:\n",
    "    if i < j:\n",
    "        print(f\" {i+1}-{j+1} \\t ({data[i][0]}-{data[j][0]}) \\t {d:.5}\")"
   ]
  },
  {
   "cell_type": "code",
   "execution_count": 249,
   "metadata": {},
   "outputs": [
    {
     "name": "stdout",
     "output_type": "stream",
     "text": [
      "18 angle(s) found (degrees)\n",
      " 2-1-6      (C-C-C)    \t 120.0\n",
      " 2-1-8      (C-C-H)    \t 120.0\n",
      " 6-1-8      (C-C-H)    \t 120.0\n",
      " 1-2-3      (C-C-C)    \t 120.0\n",
      " 1-2-9      (C-C-H)    \t 120.0\n",
      " 3-2-9      (C-C-H)    \t 120.0\n",
      " 2-3-4      (C-C-C)    \t 120.0\n",
      " 2-3-10     (C-C-H)    \t 120.0\n",
      " 4-3-10     (C-C-H)    \t 120.0\n",
      " 3-4-5      (C-C-C)    \t 120.0\n",
      " 3-4-11     (C-C-H)    \t 120.0\n",
      " 5-4-11     (C-C-H)    \t 120.0\n",
      " 4-5-6      (C-C-C)    \t 120.0\n",
      " 4-5-12     (C-C-H)    \t 120.0\n",
      " 6-5-12     (C-C-H)    \t 120.0\n",
      " 1-6-5      (C-C-C)    \t 120.0\n",
      " 1-6-7      (C-C-H)    \t 120.0\n",
      " 5-6-7      (C-C-H)    \t 120.0\n"
     ]
    }
   ],
   "source": [
    "angle_count = sum(map(lambda a: len(a) * (len(a)- 1) // 2, bond_graph))\n",
    "\n",
    "print(f\"{angle_count} angle(s) found (degrees)\")\n",
    "for j, bonded_atoms in enumerate(bond_graph):\n",
    "    _, vj = data[j]\n",
    "    for i,k in itertools.combinations(bonded_atoms, 2):\n",
    "        _, vi = data[i]\n",
    "        _, vk = data[k]\n",
    "        \n",
    "        angle_rad = bond_angle(vi, vj, vk)\n",
    "        angle = np.rad2deg(angle_rad)\n",
    "\n",
    "        print(f\" {f'{i+1}-{j+1}-{k+1}':<10} {f'({data[i][0]}-{data[j][0]}-{data[k][0]})':<10} \\t {np.round(angle, 1)}\")"
   ]
  },
  {
   "cell_type": "code",
   "execution_count": 250,
   "metadata": {},
   "outputs": [
    {
     "name": "stdout",
     "output_type": "stream",
     "text": [
      "24 torsion(s) found (degrees)\n",
      " 6-1-2-3 \t C-C-C-C \t 0.0\n",
      " 6-1-2-9 \t C-C-C-H \t 180.0\n",
      " 8-1-2-3 \t H-C-C-C \t 180.0\n",
      " 8-1-2-9 \t H-C-C-H \t 0.0\n",
      " 2-1-6-5 \t C-C-C-C \t nan\n",
      " 2-1-6-7 \t C-C-C-H \t 180.0\n",
      " 8-1-6-5 \t H-C-C-C \t 180.0\n",
      " 8-1-6-7 \t H-C-C-H \t 0.0\n",
      " 1-2-3-4 \t C-C-C-C \t 0.0\n",
      " 1-2-3-10 \t C-C-C-H \t 180.0\n",
      " 9-2-3-4 \t H-C-C-C \t 180.0\n",
      " 9-2-3-10 \t H-C-C-H \t 0.0\n",
      " 2-3-4-5 \t C-C-C-C \t 0.0\n",
      " 2-3-4-11 \t C-C-C-H \t 180.0\n",
      " 10-3-4-5 \t H-C-C-C \t 180.0\n",
      " 10-3-4-11 \t H-C-C-H \t 0.0\n",
      " 3-4-5-6 \t C-C-C-C \t 0.0\n",
      " 3-4-5-12 \t C-C-C-H \t 180.0\n",
      " 11-4-5-6 \t H-C-C-C \t 180.0\n",
      " 11-4-5-12 \t H-C-C-H \t 0.0\n",
      " 4-5-6-1 \t C-C-C-C \t 0.0\n",
      " 4-5-6-7 \t C-C-C-H \t 180.0\n",
      " 12-5-6-1 \t H-C-C-C \t 180.0\n",
      " 12-5-6-7 \t H-C-C-H \t 0.0\n"
     ]
    },
    {
     "name": "stderr",
     "output_type": "stream",
     "text": [
      "C:\\Users\\jayz0\\AppData\\Local\\Temp\\ipykernel_20632\\2355494410.py:6: RuntimeWarning: invalid value encountered in arccos\n",
      "  return np.arccos(cos)\n"
     ]
    }
   ],
   "source": [
    "def torsion_angle(a : np.ndarray,b: np.ndarray,c: np.ndarray,d:np.ndarray):\n",
    "    n1 = np.cross((a-b), (c-b))\n",
    "    n2 = np.cross((b-c), (d-c))\n",
    "\n",
    "    cos = n1 @ n2 / mag(n1) / mag(n2)\n",
    "    return np.arccos(cos)\n",
    "\n",
    "torsion_count = 0\n",
    "torions = []\n",
    "\n",
    "for j, k, _ in bonds:\n",
    "    for i in bond_graph[j]:\n",
    "        for l in bond_graph[k]:\n",
    "            if len({i,j,k,l}) != 4:\n",
    "                continue\n",
    "            torsion_count += 1\n",
    "            torions.append((i,j,k,l))\n",
    "\n",
    "print(f\"{torsion_count} torsion(s) found (degrees)\")\n",
    "for i,j,k,l in torions:\n",
    "    _, vi = data[i]\n",
    "    _, vj = data[j]\n",
    "    _, vk = data[k]\n",
    "    _, vl = data[l]\n",
    "\n",
    "    angle = torsion_angle(vi, vj ,vk ,vl)\n",
    "    print(f\" {i+1}-{j+1}-{k+1}-{l+1} \\t {data[i][0]}-{data[j][0]}-{data[k][0]}-{data[l][0]} \\t {np.round(np.rad2deg(angle), 1)}\")"
   ]
  },
  {
   "cell_type": "code",
   "execution_count": 251,
   "metadata": {},
   "outputs": [
    {
     "name": "stdout",
     "output_type": "stream",
     "text": [
      "18 out of plane angle(s) found\n",
      " (6-1-2)-8 \t (C-C-C)-H \t -0.0\n",
      " (8-1-2)-6 \t (C-H-C)-C \t 0.0\n",
      " (8-1-6)-2 \t (C-H-C)-C \t -0.0\n",
      " (3-2-1)-9 \t (C-C-C)-H \t -0.0\n",
      " (9-2-1)-3 \t (C-H-C)-C \t 0.0\n",
      " (9-2-3)-1 \t (C-H-C)-C \t -0.0\n",
      " (4-3-2)-10 \t (C-C-C)-H \t 0.0\n",
      " (10-3-2)-4 \t (C-H-C)-C \t -0.0\n",
      " (10-3-4)-2 \t (C-H-C)-C \t 0.0\n",
      " (5-4-3)-11 \t (C-C-C)-H \t 0.0\n",
      " (11-4-3)-5 \t (C-H-C)-C \t -0.0\n",
      " (11-4-5)-3 \t (C-H-C)-C \t 0.0\n",
      " (6-5-4)-12 \t (C-C-C)-H \t -0.0\n",
      " (12-5-4)-6 \t (C-H-C)-C \t 0.0\n",
      " (12-5-6)-4 \t (C-H-C)-C \t -0.0\n",
      " (5-6-1)-7 \t (C-C-C)-H \t 0.0\n",
      " (7-6-1)-5 \t (C-H-C)-C \t -0.0\n",
      " (7-6-5)-1 \t (C-H-C)-C \t 0.0\n"
     ]
    }
   ],
   "source": [
    "def out_of_plane_angle(o :np.ndarray, v:np.ndarray, u:np.ndarray, w:np.ndarray):\n",
    "    n = np.cross((v-o), (u-o))\n",
    "    n /= mag(n) \n",
    "    sin = n @ (w-o) / mag(w-o)\n",
    "    return np.arcsin(sin)\n",
    "\n",
    "out_of_plane_angle_count = 3 * sum(map(lambda x: len(x) == 3, bond_graph))\n",
    "print(f\"{out_of_plane_angle_count} out of plane angle(s) found\")\n",
    "\n",
    "for i,bonded_atoms in enumerate(bond_graph):\n",
    "    if len(bonded_atoms) != 3:\n",
    "        continue\n",
    "\n",
    "    for j, k, l in itertools.permutations(bonded_atoms):\n",
    "        if j < k: continue\n",
    "        _, o = data[i]\n",
    "        _, v = data[j]\n",
    "        _, u = data[k]\n",
    "        _, w = data[l]\n",
    "\n",
    "        angle = out_of_plane_angle(o,v,u,w)\n",
    "\n",
    "        print(f\" ({j+1}-{i+1}-{k+1})-{l+1} \\t ({data[i][0]}-{data[j][0]}-{data[k][0]})-{data[l][0]} \\t {np.round(np.rad2deg(angle),2)}\")\n",
    "\n"
   ]
  },
  {
   "cell_type": "code",
   "execution_count": 252,
   "metadata": {},
   "outputs": [],
   "source": [
    "at_masses = {    'H' : 1.00794, 'C' : 12.0107, 'O' : 15.9994, 'N' : 14.0067,\n",
    "  'F' : 18.9984, 'P' : 30.9738, 'S' : 32.0650, 'Cl': 35.4530, 'Br': 79.9040,\n",
    "  'I' : 126.904, 'He': 4.00260, 'Ne': 20.1797, 'Ar': 39.9480, 'Li': 6.94100,\n",
    "  'Be': 9.01218, 'B' : 10.8110, 'Na': 22.9898, 'Mg': 24.3050, 'Al': 26.9815,\n",
    "  'Si': 28.0855, 'K' : 39.0983, 'Ca': 40.0780, 'Sc': 44.9559, 'Ti': 47.8670,\n",
    "  'V' : 50.9415, 'Cr': 51.9961, 'Mn': 54.9380, 'Fe': 55.8450, 'Co': 58.9332,\n",
    "  'Ni': 58.6934, 'Cu': 63.5460, 'Zn': 65.4090, 'Ga': 69.7230, 'Ge': 72.6400,\n",
    "  'As': 74.9216, 'Se': 78.9600, 'Kr': 83.7980, 'X' : 0.00000}"
   ]
  },
  {
   "cell_type": "code",
   "execution_count": 253,
   "metadata": {},
   "outputs": [
    {
     "name": "stdout",
     "output_type": "stream",
     "text": [
      "molecular mass: 78.11\n",
      "molecular center of mass (Angstrom)\n",
      "(X,Y,Z): \t -0.52165 \t -1.228 \t -0.2936\n"
     ]
    }
   ],
   "source": [
    "mass = sum(map(lambda x: at_masses[x[0]], data))\n",
    "\n",
    "print(f\"molecular mass: {np.round(mass,2)}\")\n",
    "\n",
    "center_of_mass = sum(map(lambda x: x[1] * at_masses[x[0]], data), [0,0,0]) / mass\n",
    "x,y,z = center_of_mass\n",
    "print(\"molecular center of mass (Angstrom)\")\n",
    "print(f\"(X,Y,Z): \\t {x:.5} \\t {y:.5} \\t {z:.5}\")"
   ]
  },
  {
   "cell_type": "code",
   "execution_count": 254,
   "metadata": {},
   "outputs": [
    {
     "name": "stdout",
     "output_type": "stream",
     "text": [
      "moment of inertia matrix from the center of mass (amu * A^2)\n"
     ]
    },
    {
     "data": {
      "text/html": [
       "<div>\n",
       "<style scoped>\n",
       "    .dataframe tbody tr th:only-of-type {\n",
       "        vertical-align: middle;\n",
       "    }\n",
       "\n",
       "    .dataframe tbody tr th {\n",
       "        vertical-align: top;\n",
       "    }\n",
       "\n",
       "    .dataframe thead th {\n",
       "        text-align: right;\n",
       "    }\n",
       "</style>\n",
       "<table border=\"1\" class=\"dataframe\">\n",
       "  <thead>\n",
       "    <tr style=\"text-align: right;\">\n",
       "      <th></th>\n",
       "      <th>X</th>\n",
       "      <th>Y</th>\n",
       "      <th>Z</th>\n",
       "    </tr>\n",
       "  </thead>\n",
       "  <tbody>\n",
       "    <tr>\n",
       "      <th>X</th>\n",
       "      <td>164.394194</td>\n",
       "      <td>-31.151761</td>\n",
       "      <td>-4.150844</td>\n",
       "    </tr>\n",
       "    <tr>\n",
       "      <th>Y</th>\n",
       "      <td>-31.151761</td>\n",
       "      <td>101.547274</td>\n",
       "      <td>1.709070</td>\n",
       "    </tr>\n",
       "    <tr>\n",
       "      <th>Z</th>\n",
       "      <td>-4.150844</td>\n",
       "      <td>1.709070</td>\n",
       "      <td>88.950962</td>\n",
       "    </tr>\n",
       "  </tbody>\n",
       "</table>\n",
       "</div>"
      ],
      "text/plain": [
       "            X           Y          Z\n",
       "X  164.394194  -31.151761  -4.150844\n",
       "Y  -31.151761  101.547274   1.709070\n",
       "Z   -4.150844    1.709070  88.950962"
      ]
     },
     "execution_count": 254,
     "metadata": {},
     "output_type": "execute_result"
    }
   ],
   "source": [
    "moment_of_inertia = sum(map(lambda x: at_masses[x[0]] * ((x[1]-center_of_mass) @ (x[1]-center_of_mass) * np.identity(3) - np.outer(x[1]-center_of_mass, x[1]-center_of_mass)), data), [[0,0,0],[0,0,0],[0,0,0]])\n",
    "print(\"moment of inertia matrix from the center of mass (amu * A^2)\")\n",
    "pd.DataFrame(moment_of_inertia, columns=list(\"XYZ\"), index=list(\"XYZ\"))"
   ]
  },
  {
   "cell_type": "code",
   "execution_count": 255,
   "metadata": {},
   "outputs": [
    {
     "name": "stdout",
     "output_type": "stream",
     "text": [
      "data after shifting center of mass\n",
      " C   \t 0.253    \t 0.766    \t -1.14   \n",
      " C   \t 0.535    \t 1.28     \t 0.127   \n",
      " C   \t 0.282    \t 0.516    \t 1.27    \n",
      " C   \t -0.253   \t -0.766   \t 1.14    \n",
      " C   \t -0.535   \t -1.28    \t -0.127  \n",
      " C   \t -0.282   \t -0.516   \t -1.27   \n",
      " H   \t -0.501   \t -0.917   \t -2.25   \n",
      " H   \t 0.45     \t 1.36     \t -2.02   \n",
      " H   \t 0.951    \t 2.28     \t 0.227   \n",
      " H   \t 0.501    \t 0.917    \t 2.25    \n",
      " H   \t -0.45    \t -1.36    \t 2.02    \n",
      " H   \t -0.951   \t -2.28    \t -0.227  \n"
     ]
    }
   ],
   "source": [
    "adjusted_data  : list[tuple[str, float, float, float]] = list(map(lambda x: (x[0], x[1] - center_of_mass) , data))\n",
    "\n",
    "print(\"data after shifting center of mass\")\n",
    "for atom, (x, y, z) in adjusted_data:\n",
    "    print(f\" {atom:<3} \\t {x:<8.3} \\t {y:<8.3} \\t {z:<8.3}\")"
   ]
  },
  {
   "cell_type": "code",
   "execution_count": 272,
   "metadata": {},
   "outputs": [
    {
     "name": "stdout",
     "output_type": "stream",
     "text": [
      "principle moments of inertia (amu * A^2)\n",
      " 88.723 \t 88.723 \t 177.446\n",
      "\n",
      "Type of Molecule\n",
      " Oblate Symmetric Top\n"
     ]
    }
   ],
   "source": [
    "moment_of_inertia : np.ndarray[np.ndarray[float]]\n",
    "Ia, Ib, Ic = sorted(map(partial(np.round, decimals=3), np.linalg.eigvals(moment_of_inertia)))\n",
    "\n",
    "\n",
    "\n",
    "print(\"principle moments of inertia (amu * A^2)\")\n",
    "print(f\" {Ia} \\t {Ib} \\t {Ic}\")\n",
    "print()\n",
    "\n",
    "print(\"Type of Molecule\")\n",
    "\n",
    "if Ia == 0 and Ib == 0 and Ic == 0:\n",
    "    print(\" Monoatomic\")\n",
    "elif Ia == Ib and Ib == Ic:\n",
    "    print(\"Sphereical Top\")\n",
    "elif Ia == 0 and Ib == Ic:\n",
    "    print(\" Linear\")\n",
    "elif Ia == Ib:\n",
    "    print(\" Oblate Symmetric Top\")\n",
    "elif Ib == Ic:\n",
    "    print(\" Prolate Symmetric Top\")\n",
    "else:\n",
    "    print(\" Asymmetric Top\")\n",
    "\n"
   ]
  }
 ],
 "metadata": {
  "kernelspec": {
   "display_name": "Python 3",
   "language": "python",
   "name": "python3"
  },
  "language_info": {
   "codemirror_mode": {
    "name": "ipython",
    "version": 3
   },
   "file_extension": ".py",
   "mimetype": "text/x-python",
   "name": "python",
   "nbconvert_exporter": "python",
   "pygments_lexer": "ipython3",
   "version": "3.11.1"
  }
 },
 "nbformat": 4,
 "nbformat_minor": 2
}
